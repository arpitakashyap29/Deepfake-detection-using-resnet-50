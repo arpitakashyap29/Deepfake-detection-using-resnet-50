{
  "cells": [
    {
      "cell_type": "markdown",
      "metadata": {
        "id": "view-in-github",
        "colab_type": "text"
      },
      "source": [
        "<a href=\"https://colab.research.google.com/github/arpitakashyap29/Deepfake-detection-using-resnet-50/blob/main/deepfake%20detection%20using%C2%A0resnet%C2%A050.ipynb\" target=\"_parent\"><img src=\"https://colab.research.google.com/assets/colab-badge.svg\" alt=\"Open In Colab\"/></a>"
      ]
    },
    {
      "cell_type": "code",
      "execution_count": null,
      "id": "5b90d8de-d697-45b9-8ffc-075f1cc50e9c",
      "metadata": {
        "id": "5b90d8de-d697-45b9-8ffc-075f1cc50e9c"
      },
      "outputs": [],
      "source": [
        "!mkdir ~/.kaggle/"
      ]
    },
    {
      "cell_type": "code",
      "execution_count": null,
      "id": "9122335c-6f0d-4ad2-9a09-f2155e1ad5df",
      "metadata": {
        "id": "9122335c-6f0d-4ad2-9a09-f2155e1ad5df"
      },
      "outputs": [],
      "source": [
        "!cp kaggle.json ~/.kaggle/"
      ]
    },
    {
      "cell_type": "code",
      "execution_count": null,
      "id": "e2300847-017c-4c10-bf29-1e905b99c378",
      "metadata": {
        "id": "e2300847-017c-4c10-bf29-1e905b99c378"
      },
      "outputs": [],
      "source": [
        "!chmod 600 ~/.kaggle/kaggle.json"
      ]
    },
    {
      "cell_type": "code",
      "execution_count": null,
      "id": "4ead05dd-cce5-4b63-8f75-907cdf54ed06",
      "metadata": {
        "id": "4ead05dd-cce5-4b63-8f75-907cdf54ed06"
      },
      "outputs": [],
      "source": [
        "!python -m pip install -qq kaggle"
      ]
    },
    {
      "cell_type": "code",
      "execution_count": null,
      "id": "45acdb20-a973-4ce8-b868-48b048dc76e8",
      "metadata": {
        "colab": {
          "base_uri": "https://localhost:8080/"
        },
        "id": "45acdb20-a973-4ce8-b868-48b048dc76e8",
        "outputId": "d5a87f68-e3cd-4b62-bc4b-8772141e2938"
      },
      "outputs": [
        {
          "output_type": "stream",
          "name": "stdout",
          "text": [
            "Dataset URL: https://www.kaggle.com/datasets/asifmzx/celeb-v1-df\n",
            "License(s): MIT\n",
            "Downloading celeb-v1-df.zip to /content\n",
            " 99% 1.97G/1.98G [00:30<00:00, 103MB/s]\n",
            "100% 1.98G/1.98G [00:30<00:00, 70.1MB/s]\n"
          ]
        }
      ],
      "source": [
        "!kaggle datasets download -d asifmzx/celeb-v1-df"
      ]
    },
    {
      "cell_type": "code",
      "execution_count": null,
      "id": "aea21ab1-ddac-4dd7-9c32-eabb7030e908",
      "metadata": {
        "id": "aea21ab1-ddac-4dd7-9c32-eabb7030e908"
      },
      "outputs": [],
      "source": [
        "!unzip -q celeb-v1-df.zip"
      ]
    },
    {
      "cell_type": "code",
      "execution_count": null,
      "id": "8de81195-c834-488c-9311-3f9da9f7ce94",
      "metadata": {
        "colab": {
          "base_uri": "https://localhost:8080/"
        },
        "id": "8de81195-c834-488c-9311-3f9da9f7ce94",
        "outputId": "73092dae-abb4-4df0-c4ab-26f4bb3038be"
      },
      "outputs": [
        {
          "output_type": "stream",
          "name": "stdout",
          "text": [
            "Requirement already satisfied: torch in /usr/local/lib/python3.10/dist-packages (2.5.1+cu121)\n",
            "Requirement already satisfied: torchvision in /usr/local/lib/python3.10/dist-packages (0.20.1+cu121)\n",
            "Requirement already satisfied: numpy in /usr/local/lib/python3.10/dist-packages (1.26.4)\n",
            "Requirement already satisfied: pandas in /usr/local/lib/python3.10/dist-packages (2.2.2)\n",
            "Requirement already satisfied: opencv-python in /usr/local/lib/python3.10/dist-packages (4.10.0.84)\n",
            "Requirement already satisfied: filelock in /usr/local/lib/python3.10/dist-packages (from torch) (3.16.1)\n",
            "Requirement already satisfied: typing-extensions>=4.8.0 in /usr/local/lib/python3.10/dist-packages (from torch) (4.12.2)\n",
            "Requirement already satisfied: networkx in /usr/local/lib/python3.10/dist-packages (from torch) (3.4.2)\n",
            "Requirement already satisfied: jinja2 in /usr/local/lib/python3.10/dist-packages (from torch) (3.1.4)\n",
            "Requirement already satisfied: fsspec in /usr/local/lib/python3.10/dist-packages (from torch) (2024.10.0)\n",
            "Requirement already satisfied: sympy==1.13.1 in /usr/local/lib/python3.10/dist-packages (from torch) (1.13.1)\n",
            "Requirement already satisfied: mpmath<1.4,>=1.1.0 in /usr/local/lib/python3.10/dist-packages (from sympy==1.13.1->torch) (1.3.0)\n",
            "Requirement already satisfied: pillow!=8.3.*,>=5.3.0 in /usr/local/lib/python3.10/dist-packages (from torchvision) (11.0.0)\n",
            "Requirement already satisfied: python-dateutil>=2.8.2 in /usr/local/lib/python3.10/dist-packages (from pandas) (2.8.2)\n",
            "Requirement already satisfied: pytz>=2020.1 in /usr/local/lib/python3.10/dist-packages (from pandas) (2024.2)\n",
            "Requirement already satisfied: tzdata>=2022.7 in /usr/local/lib/python3.10/dist-packages (from pandas) (2024.2)\n",
            "Requirement already satisfied: six>=1.5 in /usr/local/lib/python3.10/dist-packages (from python-dateutil>=2.8.2->pandas) (1.16.0)\n",
            "Requirement already satisfied: MarkupSafe>=2.0 in /usr/local/lib/python3.10/dist-packages (from jinja2->torch) (3.0.2)\n"
          ]
        }
      ],
      "source": [
        "!pip install torch torchvision numpy pandas opencv-python"
      ]
    },
    {
      "cell_type": "code",
      "execution_count": null,
      "id": "eb0525a9-7650-4141-a501-2a8aaf800c97",
      "metadata": {
        "colab": {
          "base_uri": "https://localhost:8080/"
        },
        "id": "eb0525a9-7650-4141-a501-2a8aaf800c97",
        "outputId": "e525a037-4fac-4ff7-ac6b-12d87a83e6e3"
      },
      "outputs": [
        {
          "output_type": "stream",
          "name": "stdout",
          "text": [
            "Requirement already satisfied: tensorflow in /usr/local/lib/python3.10/dist-packages (2.17.1)\n",
            "Requirement already satisfied: numpy in /usr/local/lib/python3.10/dist-packages (1.26.4)\n",
            "Requirement already satisfied: pandas in /usr/local/lib/python3.10/dist-packages (2.2.2)\n",
            "Requirement already satisfied: opencv-python in /usr/local/lib/python3.10/dist-packages (4.10.0.84)\n",
            "Requirement already satisfied: absl-py>=1.0.0 in /usr/local/lib/python3.10/dist-packages (from tensorflow) (1.4.0)\n",
            "Requirement already satisfied: astunparse>=1.6.0 in /usr/local/lib/python3.10/dist-packages (from tensorflow) (1.6.3)\n",
            "Requirement already satisfied: flatbuffers>=24.3.25 in /usr/local/lib/python3.10/dist-packages (from tensorflow) (24.3.25)\n",
            "Requirement already satisfied: gast!=0.5.0,!=0.5.1,!=0.5.2,>=0.2.1 in /usr/local/lib/python3.10/dist-packages (from tensorflow) (0.6.0)\n",
            "Requirement already satisfied: google-pasta>=0.1.1 in /usr/local/lib/python3.10/dist-packages (from tensorflow) (0.2.0)\n",
            "Requirement already satisfied: h5py>=3.10.0 in /usr/local/lib/python3.10/dist-packages (from tensorflow) (3.12.1)\n",
            "Requirement already satisfied: libclang>=13.0.0 in /usr/local/lib/python3.10/dist-packages (from tensorflow) (18.1.1)\n",
            "Requirement already satisfied: ml-dtypes<0.5.0,>=0.3.1 in /usr/local/lib/python3.10/dist-packages (from tensorflow) (0.4.1)\n",
            "Requirement already satisfied: opt-einsum>=2.3.2 in /usr/local/lib/python3.10/dist-packages (from tensorflow) (3.4.0)\n",
            "Requirement already satisfied: packaging in /usr/local/lib/python3.10/dist-packages (from tensorflow) (24.2)\n",
            "Requirement already satisfied: protobuf!=4.21.0,!=4.21.1,!=4.21.2,!=4.21.3,!=4.21.4,!=4.21.5,<5.0.0dev,>=3.20.3 in /usr/local/lib/python3.10/dist-packages (from tensorflow) (4.25.5)\n",
            "Requirement already satisfied: requests<3,>=2.21.0 in /usr/local/lib/python3.10/dist-packages (from tensorflow) (2.32.3)\n",
            "Requirement already satisfied: setuptools in /usr/local/lib/python3.10/dist-packages (from tensorflow) (75.1.0)\n",
            "Requirement already satisfied: six>=1.12.0 in /usr/local/lib/python3.10/dist-packages (from tensorflow) (1.16.0)\n",
            "Requirement already satisfied: termcolor>=1.1.0 in /usr/local/lib/python3.10/dist-packages (from tensorflow) (2.5.0)\n",
            "Requirement already satisfied: typing-extensions>=3.6.6 in /usr/local/lib/python3.10/dist-packages (from tensorflow) (4.12.2)\n",
            "Requirement already satisfied: wrapt>=1.11.0 in /usr/local/lib/python3.10/dist-packages (from tensorflow) (1.16.0)\n",
            "Requirement already satisfied: grpcio<2.0,>=1.24.3 in /usr/local/lib/python3.10/dist-packages (from tensorflow) (1.67.1)\n",
            "Requirement already satisfied: tensorboard<2.18,>=2.17 in /usr/local/lib/python3.10/dist-packages (from tensorflow) (2.17.1)\n",
            "Requirement already satisfied: keras>=3.2.0 in /usr/local/lib/python3.10/dist-packages (from tensorflow) (3.5.0)\n",
            "Requirement already satisfied: tensorflow-io-gcs-filesystem>=0.23.1 in /usr/local/lib/python3.10/dist-packages (from tensorflow) (0.37.1)\n",
            "Requirement already satisfied: python-dateutil>=2.8.2 in /usr/local/lib/python3.10/dist-packages (from pandas) (2.8.2)\n",
            "Requirement already satisfied: pytz>=2020.1 in /usr/local/lib/python3.10/dist-packages (from pandas) (2024.2)\n",
            "Requirement already satisfied: tzdata>=2022.7 in /usr/local/lib/python3.10/dist-packages (from pandas) (2024.2)\n",
            "Requirement already satisfied: wheel<1.0,>=0.23.0 in /usr/local/lib/python3.10/dist-packages (from astunparse>=1.6.0->tensorflow) (0.45.0)\n",
            "Requirement already satisfied: rich in /usr/local/lib/python3.10/dist-packages (from keras>=3.2.0->tensorflow) (13.9.4)\n",
            "Requirement already satisfied: namex in /usr/local/lib/python3.10/dist-packages (from keras>=3.2.0->tensorflow) (0.0.8)\n",
            "Requirement already satisfied: optree in /usr/local/lib/python3.10/dist-packages (from keras>=3.2.0->tensorflow) (0.13.1)\n",
            "Requirement already satisfied: charset-normalizer<4,>=2 in /usr/local/lib/python3.10/dist-packages (from requests<3,>=2.21.0->tensorflow) (3.4.0)\n",
            "Requirement already satisfied: idna<4,>=2.5 in /usr/local/lib/python3.10/dist-packages (from requests<3,>=2.21.0->tensorflow) (3.10)\n",
            "Requirement already satisfied: urllib3<3,>=1.21.1 in /usr/local/lib/python3.10/dist-packages (from requests<3,>=2.21.0->tensorflow) (2.2.3)\n",
            "Requirement already satisfied: certifi>=2017.4.17 in /usr/local/lib/python3.10/dist-packages (from requests<3,>=2.21.0->tensorflow) (2024.8.30)\n",
            "Requirement already satisfied: markdown>=2.6.8 in /usr/local/lib/python3.10/dist-packages (from tensorboard<2.18,>=2.17->tensorflow) (3.7)\n",
            "Requirement already satisfied: tensorboard-data-server<0.8.0,>=0.7.0 in /usr/local/lib/python3.10/dist-packages (from tensorboard<2.18,>=2.17->tensorflow) (0.7.2)\n",
            "Requirement already satisfied: werkzeug>=1.0.1 in /usr/local/lib/python3.10/dist-packages (from tensorboard<2.18,>=2.17->tensorflow) (3.1.3)\n",
            "Requirement already satisfied: MarkupSafe>=2.1.1 in /usr/local/lib/python3.10/dist-packages (from werkzeug>=1.0.1->tensorboard<2.18,>=2.17->tensorflow) (3.0.2)\n",
            "Requirement already satisfied: markdown-it-py>=2.2.0 in /usr/local/lib/python3.10/dist-packages (from rich->keras>=3.2.0->tensorflow) (3.0.0)\n",
            "Requirement already satisfied: pygments<3.0.0,>=2.13.0 in /usr/local/lib/python3.10/dist-packages (from rich->keras>=3.2.0->tensorflow) (2.18.0)\n",
            "Requirement already satisfied: mdurl~=0.1 in /usr/local/lib/python3.10/dist-packages (from markdown-it-py>=2.2.0->rich->keras>=3.2.0->tensorflow) (0.1.2)\n"
          ]
        }
      ],
      "source": [
        "!pip install tensorflow numpy pandas opencv-python"
      ]
    },
    {
      "cell_type": "code",
      "execution_count": null,
      "id": "68d0d8d7-0bfc-48f7-aa83-2b89e4039463",
      "metadata": {
        "colab": {
          "base_uri": "https://localhost:8080/"
        },
        "id": "68d0d8d7-0bfc-48f7-aa83-2b89e4039463",
        "outputId": "ad5ede3a-802a-4261-e7cf-e9f7995026c8"
      },
      "outputs": [
        {
          "output_type": "stream",
          "name": "stderr",
          "text": [
            "/usr/local/lib/python3.10/dist-packages/torchvision/models/_utils.py:208: UserWarning: The parameter 'pretrained' is deprecated since 0.13 and may be removed in the future, please use 'weights' instead.\n",
            "  warnings.warn(\n",
            "/usr/local/lib/python3.10/dist-packages/torchvision/models/_utils.py:223: UserWarning: Arguments other than a weight enum or `None` for 'weights' are deprecated since 0.13 and may be removed in the future. The current behavior is equivalent to passing `weights=ResNet18_Weights.IMAGENET1K_V1`. You can also use `weights=ResNet18_Weights.DEFAULT` to get the most up-to-date weights.\n",
            "  warnings.warn(msg)\n",
            "Downloading: \"https://download.pytorch.org/models/resnet18-f37072fd.pth\" to /root/.cache/torch/hub/checkpoints/resnet18-f37072fd.pth\n",
            "100%|██████████| 44.7M/44.7M [00:00<00:00, 170MB/s]\n"
          ]
        }
      ],
      "source": [
        "import torch\n",
        "import torchvision.models as models\n",
        "\n",
        "\n",
        "model = models.resnet18(pretrained=True)"
      ]
    },
    {
      "cell_type": "code",
      "execution_count": null,
      "id": "b31ea29e-77ba-49c8-8998-b8e969cb1e83",
      "metadata": {
        "colab": {
          "base_uri": "https://localhost:8080/"
        },
        "id": "b31ea29e-77ba-49c8-8998-b8e969cb1e83",
        "outputId": "878d2ae7-27df-452b-ecb5-a871f57ab656"
      },
      "outputs": [
        {
          "output_type": "stream",
          "name": "stdout",
          "text": [
            "Requirement already satisfied: torch in /usr/local/lib/python3.10/dist-packages (2.5.1+cu121)\n",
            "Requirement already satisfied: torchvision in /usr/local/lib/python3.10/dist-packages (0.20.1+cu121)\n",
            "Requirement already satisfied: opencv-python in /usr/local/lib/python3.10/dist-packages (4.10.0.84)\n",
            "Requirement already satisfied: pandas in /usr/local/lib/python3.10/dist-packages (2.2.2)\n",
            "Requirement already satisfied: filelock in /usr/local/lib/python3.10/dist-packages (from torch) (3.16.1)\n",
            "Requirement already satisfied: typing-extensions>=4.8.0 in /usr/local/lib/python3.10/dist-packages (from torch) (4.12.2)\n",
            "Requirement already satisfied: networkx in /usr/local/lib/python3.10/dist-packages (from torch) (3.4.2)\n",
            "Requirement already satisfied: jinja2 in /usr/local/lib/python3.10/dist-packages (from torch) (3.1.4)\n",
            "Requirement already satisfied: fsspec in /usr/local/lib/python3.10/dist-packages (from torch) (2024.10.0)\n",
            "Requirement already satisfied: sympy==1.13.1 in /usr/local/lib/python3.10/dist-packages (from torch) (1.13.1)\n",
            "Requirement already satisfied: mpmath<1.4,>=1.1.0 in /usr/local/lib/python3.10/dist-packages (from sympy==1.13.1->torch) (1.3.0)\n",
            "Requirement already satisfied: numpy in /usr/local/lib/python3.10/dist-packages (from torchvision) (1.26.4)\n",
            "Requirement already satisfied: pillow!=8.3.*,>=5.3.0 in /usr/local/lib/python3.10/dist-packages (from torchvision) (11.0.0)\n",
            "Requirement already satisfied: python-dateutil>=2.8.2 in /usr/local/lib/python3.10/dist-packages (from pandas) (2.8.2)\n",
            "Requirement already satisfied: pytz>=2020.1 in /usr/local/lib/python3.10/dist-packages (from pandas) (2024.2)\n",
            "Requirement already satisfied: tzdata>=2022.7 in /usr/local/lib/python3.10/dist-packages (from pandas) (2024.2)\n",
            "Requirement already satisfied: six>=1.5 in /usr/local/lib/python3.10/dist-packages (from python-dateutil>=2.8.2->pandas) (1.16.0)\n",
            "Requirement already satisfied: MarkupSafe>=2.0 in /usr/local/lib/python3.10/dist-packages (from jinja2->torch) (3.0.2)\n"
          ]
        }
      ],
      "source": [
        "!pip install torch torchvision opencv-python pandas"
      ]
    },
    {
      "cell_type": "code",
      "execution_count": null,
      "id": "47d67351-ecff-459e-a96e-128652f7a805",
      "metadata": {
        "id": "47d67351-ecff-459e-a96e-128652f7a805"
      },
      "outputs": [],
      "source": [
        "test_videos = []\n",
        "with open('List_of_testing_videos.txt', 'r') as file:\n",
        "    test_videos = file.read().splitlines()"
      ]
    },
    {
      "cell_type": "code",
      "execution_count": null,
      "id": "7be828b2-6903-4e8c-804d-bbcb567a4ce8",
      "metadata": {
        "id": "7be828b2-6903-4e8c-804d-bbcb567a4ce8"
      },
      "outputs": [],
      "source": [
        "import os\n",
        "\n",
        "real_videos_path = 'Celeb-real'\n",
        "fake_videos_path = 'Celeb-synthesis'\n",
        "# Temporary directories for extracted frames\n",
        "temp_real_frames = 'temp_frames/real'\n",
        "temp_fake_frames = 'temp_frames/fake'\n",
        "# Paths for training and testing frames\n",
        "train_real_images_path = 'train/real/'\n",
        "train_fake_images_path = 'train/fake/'\n",
        "test_real_images_path = 'test/real/'\n",
        "test_fake_images_path = 'test/fake/'\n",
        "\n",
        "\n",
        "os.makedirs(temp_real_frames, exist_ok=True)\n",
        "os.makedirs(temp_fake_frames, exist_ok=True)\n",
        "os.makedirs(train_real_images_path, exist_ok=True)\n",
        "os.makedirs(train_fake_images_path, exist_ok=True)\n",
        "os.makedirs(test_real_images_path, exist_ok=True)\n",
        "os.makedirs(test_fake_images_path, exist_ok=True)"
      ]
    },
    {
      "cell_type": "code",
      "execution_count": null,
      "id": "4ecf9282-36bd-49ba-9158-dde9c1f332e7",
      "metadata": {
        "id": "4ecf9282-36bd-49ba-9158-dde9c1f332e7"
      },
      "outputs": [],
      "source": [
        "import cv2\n",
        "import os\n",
        "import numpy as np\n",
        "from sklearn.model_selection import train_test_split\n",
        "import shutil\n",
        "\n",
        "def extract_frames(video_path, output_folder, frame_rate=5, similarity_threshold=1000):\n",
        "    \"\"\"\n",
        "    Extract frames from a video file, removing duplicates, and save them to the output folder.\n",
        "\n",
        "    Args:\n",
        "    - video_path: str, path to the video file.\n",
        "    - output_folder: str, path to save the extracted frames.\n",
        "    - frame_rate: int, number of frames to skip before extracting a new one.\n",
        "    - similarity_threshold: float, MSE threshold to consider frames as different.\n",
        "    \"\"\"\n",
        "    video = cv2.VideoCapture(video_path)\n",
        "    count = 0\n",
        "    success, prev_frame = video.read()  # Read the first frame\n",
        "\n",
        "    if not success:\n",
        "        print(f\"Failed to read the video file {video_path}\")\n",
        "        return\n",
        "\n",
        "    # Save the first frame\n",
        "    frame_filename = os.path.join(output_folder, f\"{os.path.splitext(os.path.basename(video_path))[0]}frame{count}.jpg\")\n",
        "    cv2.imwrite(frame_filename, prev_frame)\n",
        "\n",
        "    while True:\n",
        "        # Read the next frame\n",
        "        success, frame = video.read()\n",
        "        if not success:\n",
        "            break\n",
        "\n",
        "        # Skip frames to achieve the desired frame rate\n",
        "        count += 1\n",
        "        if count % frame_rate != 0:\n",
        "            continue\n",
        "\n",
        "        # Compute the similarity between the current frame and the previous saved frame\n",
        "        if mse(prev_frame, frame) > similarity_threshold:\n",
        "            # If different enough, save the frame\n",
        "            frame_filename = os.path.join(output_folder, f\"{os.path.splitext(os.path.basename(video_path))[0]}frame{count}.jpg\")\n",
        "            cv2.imwrite(frame_filename, frame)\n",
        "            prev_frame = frame  # Update the previous frame\n",
        "\n",
        "    video.release()\n",
        "    cv2.destroyAllWindows()\n",
        "\n",
        "def mse(imageA, imageB):\n",
        "    \"\"\"\n",
        "    Compute the Mean Squared Error between two images.\n",
        "    The lower the MSE, the more similar the images are.\n",
        "    \"\"\"\n",
        "    err = np.sum((imageA.astype(\"float\") - imageB.astype(\"float\")) ** 2)\n",
        "    err /= float(imageA.shape[0] * imageA.shape[1])\n",
        "    return err"
      ]
    },
    {
      "cell_type": "code",
      "execution_count": null,
      "id": "a7b23861-d8c0-469c-bf5d-5192ba4633a2",
      "metadata": {
        "id": "a7b23861-d8c0-469c-bf5d-5192ba4633a2"
      },
      "outputs": [],
      "source": [
        "for video_file in os.listdir(real_videos_path):\n",
        "    extract_frames(os.path.join(real_videos_path, video_file), temp_real_frames)\n",
        "\n",
        "for video_file in os.listdir(fake_videos_path):\n",
        "    extract_frames(os.path.join(fake_videos_path, video_file), temp_fake_frames)\n",
        "\n",
        "real_frames = [os.path.join(temp_real_frames, f) for f in os.listdir(temp_real_frames)]\n",
        "fake_frames = [os.path.join(temp_fake_frames, f) for f in os.listdir(temp_fake_frames)]\n",
        "\n",
        "# Split frames into training and testing sets (80-20 split)\n",
        "train_real, test_real = train_test_split(real_frames, test_size=0.2, random_state=42)\n",
        "train_fake, test_fake = train_test_split(fake_frames, test_size=0.2, random_state=42)\n",
        "\n",
        "# Move frames to the corresponding train/test directories\n",
        "for frame in train_real:\n",
        "    shutil.move(frame, train_real_images_path)\n",
        "for frame in test_real:\n",
        "    shutil.move(frame, test_real_images_path)\n",
        "for frame in train_fake:\n",
        "    shutil.move(frame, train_fake_images_path)\n",
        "for frame in test_fake:\n",
        "    shutil.move(frame, test_fake_images_path)\n",
        "\n",
        "# Clean up temporary directories\n",
        "shutil.rmtree(temp_real_frames)\n",
        "shutil.rmtree(temp_fake_frames)"
      ]
    },
    {
      "cell_type": "code",
      "execution_count": null,
      "id": "c3e466d4-5972-467b-a8e4-eccabb44c0d6",
      "metadata": {
        "id": "c3e466d4-5972-467b-a8e4-eccabb44c0d6"
      },
      "outputs": [],
      "source": [
        "def is_test_video(video_file, test_videos_list):\n",
        "    return video_file in test_videos_list\n",
        "\n",
        "# Separate videos into training and testing sets\n",
        "for video_file in os.listdir(real_videos_path):\n",
        "    video_name = video_file.split('.')[0]\n",
        "    if is_test_video(video_name, test_videos):\n",
        "        extract_frames(os.path.join(real_videos_path, video_file), test_real_images_path)\n",
        "    else:\n",
        "        extract_frames(os.path.join(real_videos_path, video_file), train_real_images_path)\n",
        "\n",
        "for video_file in os.listdir(fake_videos_path):\n",
        "    video_name = video_file.split('.')[0]\n",
        "    if is_test_video(video_name, test_videos):\n",
        "        extract_frames(os.path.join(fake_videos_path, video_file), test_fake_images_path)\n",
        "    else:\n",
        "        extract_frames(os.path.join(fake_videos_path, video_file), train_fake_images_path)"
      ]
    },
    {
      "cell_type": "code",
      "execution_count": null,
      "id": "987e6a5b-362f-4b8d-9b40-6c8fb95464d4",
      "metadata": {
        "id": "987e6a5b-362f-4b8d-9b40-6c8fb95464d4"
      },
      "outputs": [],
      "source": [
        "import torchvision.transforms as transforms\n",
        "\n",
        "# Define data transformations\n",
        "transform = transforms.Compose([\n",
        "    transforms.Resize((224, 224)),  # Resize frames to 224x224 pixels\n",
        "    transforms.RandomHorizontalFlip(),  # Randomly flip frames horizontally\n",
        "    transforms.ToTensor(),  # Convert frames to PyTorch tensors\n",
        "    transforms.Normalize(mean=[0.485, 0.456, 0.406], std=[0.229, 0.224, 0.225])  # Normalize using ImageNet stats\n",
        "])"
      ]
    },
    {
      "cell_type": "code",
      "execution_count": null,
      "id": "354062c8-dfb5-4127-b0c5-213eda54d281",
      "metadata": {
        "colab": {
          "base_uri": "https://localhost:8080/"
        },
        "id": "354062c8-dfb5-4127-b0c5-213eda54d281",
        "outputId": "b5ddd028-6358-44cd-a780-9e4e12a3af18"
      },
      "outputs": [
        {
          "output_type": "stream",
          "name": "stderr",
          "text": [
            "/usr/local/lib/python3.10/dist-packages/torchvision/models/_utils.py:208: UserWarning: The parameter 'pretrained' is deprecated since 0.13 and may be removed in the future, please use 'weights' instead.\n",
            "  warnings.warn(\n",
            "/usr/local/lib/python3.10/dist-packages/torchvision/models/_utils.py:223: UserWarning: Arguments other than a weight enum or `None` for 'weights' are deprecated since 0.13 and may be removed in the future. The current behavior is equivalent to passing `weights=ResNet50_Weights.IMAGENET1K_V1`. You can also use `weights=ResNet50_Weights.DEFAULT` to get the most up-to-date weights.\n",
            "  warnings.warn(msg)\n",
            "Downloading: \"https://download.pytorch.org/models/resnet50-0676ba61.pth\" to /root/.cache/torch/hub/checkpoints/resnet50-0676ba61.pth\n",
            "100%|██████████| 97.8M/97.8M [00:00<00:00, 117MB/s]\n"
          ]
        }
      ],
      "source": [
        "import torch\n",
        "import torch.nn as nn\n",
        "from torchvision import models\n",
        "\n",
        "# Load pre-trained ResNet\n",
        "model = models.resnet50(pretrained=True)\n",
        "\n",
        "# Modify the final fully connected layer for binary classification\n",
        "num_ftrs = model.fc.in_features\n",
        "model.fc = nn.Linear(num_ftrs, 2)  # Binary output: Real vs. Fake\n",
        "\n",
        "# Move model to GPU if available\n",
        "device = torch.device(\"cuda:0\" if torch.cuda.is_available() else \"cpu\")\n",
        "model = model.to(device)"
      ]
    },
    {
      "cell_type": "code",
      "execution_count": null,
      "id": "430e4868-155d-482c-9b1e-34250c447e5a",
      "metadata": {
        "id": "430e4868-155d-482c-9b1e-34250c447e5a"
      },
      "outputs": [],
      "source": [
        "criterion = nn.CrossEntropyLoss()\n",
        "\n",
        "# Define optimizer\n",
        "optimizer = torch.optim.Adam(model.parameters(), lr=1e-4)\n",
        "\n",
        "# Learning rate scheduler to adjust learning rate over time\n",
        "scheduler = torch.optim.lr_scheduler.StepLR(optimizer, step_size=7, gamma=0.1)"
      ]
    },
    {
      "cell_type": "code",
      "execution_count": null,
      "id": "1399e786-2bb9-4060-9f8f-c26266f909b6",
      "metadata": {
        "colab": {
          "base_uri": "https://localhost:8080/"
        },
        "id": "1399e786-2bb9-4060-9f8f-c26266f909b6",
        "outputId": "ed26715d-d81d-4ee3-f685-6a5bd805e36b"
      },
      "outputs": [
        {
          "output_type": "stream",
          "name": "stdout",
          "text": [
            "Epoch 1/5, Loss: 0.2429\n",
            "Epoch 2/5, Loss: 0.1020\n",
            "Epoch 3/5, Loss: 0.0701\n",
            "Epoch 4/5, Loss: 0.0458\n",
            "Epoch 5/5, Loss: 0.0416\n"
          ]
        }
      ],
      "source": [
        "from torchvision import datasets, transforms\n",
        "import torch\n",
        "\n",
        "# Load the training data\n",
        "train_dataset = datasets.ImageFolder(root='train', transform=transform)\n",
        "train_loader = torch.utils.data.DataLoader(train_dataset, batch_size=32, shuffle=True)\n",
        "\n",
        "# Number of epochs to train\n",
        "num_epochs = 5\n",
        "\n",
        "# Training loop\n",
        "for epoch in range(num_epochs):\n",
        "    model.train()  # Set the model to training mode\n",
        "    running_loss = 0.0\n",
        "\n",
        "    for inputs, labels in train_loader:\n",
        "        inputs, labels = inputs.to(device), labels.to(device)\n",
        "\n",
        "        optimizer.zero_grad()  # Clear gradients\n",
        "        outputs = model(inputs)  # Forward pass\n",
        "        loss = criterion(outputs, labels)  # Compute loss\n",
        "        loss.backward()  # Backward pass\n",
        "        optimizer.step()  # Update weights\n",
        "\n",
        "        running_loss += loss.item() * inputs.size(0)\n",
        "\n",
        "    # Step the learning rate scheduler\n",
        "    scheduler.step()\n",
        "\n",
        "    epoch_loss = running_loss / len(train_loader.dataset)\n",
        "    print(f'Epoch {epoch+1}/{num_epochs}, Loss: {epoch_loss:.4f}')"
      ]
    },
    {
      "cell_type": "code",
      "execution_count": null,
      "id": "686aa720-bb9a-4ae6-90db-32b174500c83",
      "metadata": {
        "colab": {
          "base_uri": "https://localhost:8080/"
        },
        "id": "686aa720-bb9a-4ae6-90db-32b174500c83",
        "outputId": "875bb736-79c8-45b7-e1d9-3fec1d70b0f5"
      },
      "outputs": [
        {
          "output_type": "stream",
          "name": "stdout",
          "text": [
            "Accuracy of the model on the test images: 98.94%\n"
          ]
        }
      ],
      "source": [
        "test_dataset = datasets.ImageFolder('/content/test', transform=transform)\n",
        "test_loader = torch.utils.data.DataLoader(test_dataset, batch_size=32, shuffle=False)\n",
        "model.eval()\n",
        "correct = 0\n",
        "total = 0\n",
        "with torch.no_grad():\n",
        "    for inputs, labels in test_loader:\n",
        "        inputs, labels = inputs.to(device), labels.to(device)\n",
        "        outputs = model(inputs)\n",
        "        _, predicted = torch.max(outputs.data, 1)\n",
        "        total += labels.size(0)\n",
        "        correct += (predicted == labels).sum().item()\n",
        "\n",
        "print(f\"Accuracy of the model on the test images: {100 * correct / total:.2f}%\")"
      ]
    },
    {
      "cell_type": "code",
      "source": [
        "import matplotlib.pyplot as plt\n",
        "import numpy as np\n",
        "from sklearn.metrics import confusion_matrix, classification_report, ConfusionMatrixDisplay\n",
        "\n",
        "# Initialize lists to store predictions and true labels\n",
        "all_preds = []\n",
        "all_labels = []\n",
        "\n",
        "# Evaluate the model on the test set\n",
        "model.eval()\n",
        "with torch.no_grad():\n",
        "    for inputs, labels in test_loader:\n",
        "        inputs, labels = inputs.to(device), labels.to(device)\n",
        "        outputs = model(inputs)\n",
        "        _, preds = torch.max(outputs.data, 1)\n",
        "        all_preds.extend(preds.cpu().numpy())  # Move to CPU and convert to numpy\n",
        "        all_labels.extend(labels.cpu().numpy())\n",
        "\n",
        "# Compute confusion matrix\n",
        "cm = confusion_matrix(all_labels, all_preds)\n",
        "print(\"Confusion Matrix:\")\n",
        "print(cm)\n",
        "\n",
        "# Classification report\n",
        "print(\"\\nClassification Report:\")\n",
        "print(classification_report(all_labels, all_preds))\n",
        "\n",
        "# Visualize the confusion matrix\n",
        "disp = ConfusionMatrixDisplay(confusion_matrix=cm, display_labels=test_dataset.classes)\n",
        "disp.plot(cmap=plt.cm.Blues, values_format='d')\n",
        "plt.title(\"Confusion Matrix\")\n",
        "plt.show()\n"
      ],
      "metadata": {
        "colab": {
          "base_uri": "https://localhost:8080/",
          "height": 715
        },
        "id": "AFbJnREIH2k6",
        "outputId": "07bb32a2-f60d-4e19-bbb2-4b6c72c7935a"
      },
      "id": "AFbJnREIH2k6",
      "execution_count": null,
      "outputs": [
        {
          "output_type": "stream",
          "name": "stdout",
          "text": [
            "Confusion Matrix:\n",
            "[[2897   26]\n",
            " [  20  556]]\n",
            "\n",
            "Classification Report:\n",
            "              precision    recall  f1-score   support\n",
            "\n",
            "           0       0.99      0.99      0.99      2923\n",
            "           1       0.96      0.97      0.96       576\n",
            "\n",
            "    accuracy                           0.99      3499\n",
            "   macro avg       0.97      0.98      0.98      3499\n",
            "weighted avg       0.99      0.99      0.99      3499\n",
            "\n"
          ]
        },
        {
          "output_type": "display_data",
          "data": {
            "text/plain": [
              "<Figure size 640x480 with 2 Axes>"
            ],
            "image/png": "[encoded data removed]"
          },
          "metadata": {}
        }
      ]
    }
  ],
  "metadata": {
    "kernelspec": {
      "display_name": "Python 3",
      "name": "python3"
    },
    "language_info": {
      "codemirror_mode": {
        "name": "ipython",
        "version": 3
      },
      "file_extension": ".py",
      "mimetype": "text/x-python",
      "name": "python",
      "nbconvert_exporter": "python",
      "pygments_lexer": "ipython3",
      "version": "3.10.8"
    },
    "colab": {
      "provenance": [],
      "gpuType": "T4",
      "include_colab_link": true
    },
    "accelerator": "GPU"
  },
  "nbformat": 4,
  "nbformat_minor": 5
}